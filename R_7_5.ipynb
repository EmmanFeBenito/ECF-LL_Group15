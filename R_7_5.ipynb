{
  "nbformat": 4,
  "nbformat_minor": 0,
  "metadata": {
    "colab": {
      "provenance": []
    },
    "kernelspec": {
      "name": "python3",
      "display_name": "Python 3"
    },
    "language_info": {
      "name": "python"
    }
  },
  "cells": [
    {
      "cell_type": "code",
      "execution_count": 3,
      "metadata": {
        "colab": {
          "base_uri": "https://localhost:8080/"
        },
        "id": "-6OWriRDJrYo",
        "outputId": "b22d24cb-dca5-4030-bb8d-4e297887ec35"
      },
      "outputs": [
        {
          "output_type": "stream",
          "name": "stdout",
          "text": [
            "Number of nodes in the circular linked list: 6\n"
          ]
        }
      ],
      "source": [
        "class Node:\n",
        "    def __init__(self, data):\n",
        "        self.data = data\n",
        "        self.next = None\n",
        "\n",
        "class CircularLinkedList:\n",
        "    def __init__(self):\n",
        "        self.head = None\n",
        "\n",
        "    def append(self, data):\n",
        "        new_node = Node(data)\n",
        "        if not self.head:\n",
        "            self.head = new_node\n",
        "            new_node.next = self.head\n",
        "        else:\n",
        "            current = self.head\n",
        "            while current.next != self.head:\n",
        "                current = current.next\n",
        "            current.next = new_node\n",
        "            new_node.next = self.head\n",
        "\n",
        "    def count_nodes(self):\n",
        "        if not self.head:\n",
        "            return 0\n",
        "\n",
        "        count = 1\n",
        "        current = self.head.next\n",
        "        while current != self.head:\n",
        "            count += 1\n",
        "            current = current.next\n",
        "\n",
        "        return count\n",
        "\n",
        "cll = CircularLinkedList()\n",
        "cll.append(1)\n",
        "cll.append(2)\n",
        "cll.append(3)\n",
        "cll.append(4)\n",
        "cll.append(5)\n",
        "cll.append(7)\n",
        "\n",
        "print(\"Number of nodes in the circular linked list:\", cll.count_nodes())\n"
      ]
    }
  ]
}