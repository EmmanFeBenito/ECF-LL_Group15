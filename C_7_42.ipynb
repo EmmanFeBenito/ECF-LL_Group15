{
  "nbformat": 4,
  "nbformat_minor": 0,
  "metadata": {
    "colab": {
      "provenance": []
    },
    "kernelspec": {
      "name": "python3",
      "display_name": "Python 3"
    },
    "language_info": {
      "name": "python"
    }
  },
  "cells": [
    {
      "cell_type": "code",
      "execution_count": 7,
      "metadata": {
        "colab": {
          "base_uri": "https://localhost:8080/"
        },
        "id": "oJGUdcwvFIJN",
        "outputId": "904457f5-cae7-4f9e-922b-2d87513e3e91"
      },
      "outputs": [
        {
          "output_type": "stream",
          "name": "stdout",
          "text": [
            "Top 10 Scores:\n",
            "1. Ivy: 800\n",
            "2. Frank: 700\n",
            "3. Jack: 650\n",
            "4. Hank: 600\n",
            "5. Alice: 500\n",
            "6. Eva: 400\n",
            "7. Charlie: 300\n",
            "8. Bob: 200\n",
            "9. David: 150\n",
            "10. Grace: 100\n",
            "\n",
            "Top 10 Scores:\n",
            "1. Ivy: 800\n",
            "2. Frank: 700\n",
            "3. Jack: 650\n",
            "4. Hank: 600\n",
            "5. Alice: 500\n",
            "6. Kate: 450\n",
            "7. Eva: 400\n",
            "8. Charlie: 300\n",
            "9. Bob: 200\n",
            "10. David: 150\n",
            "\n"
          ]
        }
      ],
      "source": [
        "class Node:\n",
        "    def __init__(self, name, score):\n",
        "        self.name = name\n",
        "        self.score = score\n",
        "        self.next = None\n",
        "\n",
        "class Scoreboard:\n",
        "    def __init__(self):\n",
        "        self.head = None\n",
        "        self.size = 0\n",
        "\n",
        "    def add_high_score(self, name, score):\n",
        "        new_node = Node(name, score)\n",
        "\n",
        "        if self.head is None or self.head.score < score:\n",
        "            new_node.next = self.head\n",
        "            self.head = new_node\n",
        "        else:\n",
        "            current = self.head\n",
        "            while current.next and current.next.score > score:\n",
        "                current = current.next\n",
        "            new_node.next = current.next\n",
        "            current.next = new_node\n",
        "\n",
        "        self.size += 1\n",
        "        if self.size > 10:\n",
        "            self.remove_last()\n",
        "\n",
        "    def remove_last(self):\n",
        "        if self.head is None:\n",
        "            return\n",
        "\n",
        "        current = self.head\n",
        "        while current.next and current.next.next:\n",
        "            current = current.next\n",
        "\n",
        "        current.next = None\n",
        "        self.size -= 1\n",
        "\n",
        "    def print_scores(self):\n",
        "        current = self.head\n",
        "        print(\"Top 10 Scores:\")\n",
        "        rank = 1\n",
        "        while current:\n",
        "            print(f\"{rank}. {current.name}: {current.score}\")\n",
        "            rank += 1\n",
        "            current = current.next\n",
        "        print()\n",
        "\n",
        "scoreboard = Scoreboard()\n",
        "\n",
        "scoreboard.add_high_score(\"Alice\", 500)\n",
        "scoreboard.add_high_score(\"Bob\", 200)\n",
        "scoreboard.add_high_score(\"Charlie\", 300)\n",
        "scoreboard.add_high_score(\"David\", 150)\n",
        "scoreboard.add_high_score(\"Eva\", 400)\n",
        "scoreboard.add_high_score(\"Frank\", 700)\n",
        "scoreboard.add_high_score(\"Grace\", 100)\n",
        "scoreboard.add_high_score(\"Hank\", 600)\n",
        "scoreboard.add_high_score(\"Ivy\", 800)\n",
        "scoreboard.add_high_score(\"Jack\", 650)\n",
        "\n",
        "scoreboard.print_scores()\n",
        "\n",
        "scoreboard.add_high_score(\"Kate\", 450)\n",
        "\n",
        "scoreboard.print_scores()\n",
        "\n"
      ]
    }
  ]
}